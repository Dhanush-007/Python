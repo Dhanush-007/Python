{
  "nbformat": 4,
  "nbformat_minor": 0,
  "metadata": {
    "colab": {
      "provenance": [],
      "include_colab_link": true
    },
    "kernelspec": {
      "name": "python3",
      "display_name": "Python 3"
    },
    "language_info": {
      "name": "python"
    }
  },
  "cells": [
    {
      "cell_type": "markdown",
      "metadata": {
        "id": "view-in-github",
        "colab_type": "text"
      },
      "source": [
        "<a href=\"https://colab.research.google.com/github/Dhanush-007/Python/blob/main/Untitled7.ipynb\" target=\"_parent\"><img src=\"https://colab.research.google.com/assets/colab-badge.svg\" alt=\"Open In Colab\"/></a>"
      ]
    },
    {
      "cell_type": "markdown",
      "metadata": {
        "id": "BFTyqNC9OUkv"
      },
      "source": [
        "Write a Python function that accepts a string and calculate the number of upper case letters and lower case letters\n",
        "\n",
        "INPUT:'The quick Brow Fox'\n",
        "\n",
        "OUTPUT:\n",
        "\n",
        "No. of Upper case characters : 3\n",
        "\n",
        "No. of Lower case Characters : 12"
      ]
    },
    {
      "cell_type": "code",
      "metadata": {
        "id": "lX0zZtu_N5Uh",
        "outputId": "23529903-7775-44b4-ad3a-ba36cd917b7e",
        "colab": {
          "base_uri": "https://localhost:8080/"
        }
      },
      "source": [
        "inp='The quick Brow Fox'\n",
        "count=0\n",
        "count2=0\n",
        "for i in inp:\n",
        "    k=i.isupper()\n",
        "    if i.isspace():\n",
        "        pass\n",
        "    elif k==True:\n",
        "        count+=1\n",
        "    else:\n",
        "        count2+=1\n",
        "print(\"No. of Upper case characters :\",count)\n",
        "print(\"No. of Lower case Characters :\",count2)"
      ],
      "execution_count": 3,
      "outputs": [
        {
          "output_type": "stream",
          "name": "stdout",
          "text": [
            "No. of Upper case characters : 3\n",
            "No. of Lower case Characters : 12\n"
          ]
        }
      ]
    },
    {
      "cell_type": "markdown",
      "metadata": {
        "id": "Z_jvqxguOSCT"
      },
      "source": []
    }
  ]
}