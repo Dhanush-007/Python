{
  "nbformat": 4,
  "nbformat_minor": 0,
  "metadata": {
    "colab": {
      "name": "Untitled32.ipynb",
      "provenance": [],
      "include_colab_link": true
    },
    "kernelspec": {
      "name": "python3",
      "display_name": "Python 3"
    },
    "language_info": {
      "name": "python"
    }
  },
  "cells": [
    {
      "cell_type": "markdown",
      "metadata": {
        "id": "view-in-github",
        "colab_type": "text"
      },
      "source": [
        "<a href=\"https://colab.research.google.com/github/Dhanush-007/Python/blob/main/Untitled32.ipynb\" target=\"_parent\"><img src=\"https://colab.research.google.com/assets/colab-badge.svg\" alt=\"Open In Colab\"/></a>"
      ]
    },
    {
      "cell_type": "markdown",
      "metadata": {
        "id": "2rUu90WWYJlC"
      },
      "source": [
        "Given an list of numbers , convert every odd number to even by adding 1 and convert every even number to odd by adding 3.\n",
        "\n",
        "Input : 1 2 3 4 5\n",
        "\n",
        "\n",
        "Output : 2 5 4 7 6"
      ]
    },
    {
      "cell_type": "code",
      "metadata": {
        "id": "jIMUaIsvYNAB",
        "outputId": "8df0ad7b-3227-49a3-8e73-2dac900c7af4",
        "colab": {
          "base_uri": "https://localhost:8080/"
        }
      },
      "source": [
        "input = [1,2,3,4,5]\n",
        "output=[]\n",
        "for i in input :\n",
        "    if (i % 2 ==0):\n",
        "        output.append(i+3)\n",
        "    else:\n",
        "      output.append(i+1)\n",
        "print(output)\n"
      ],
      "execution_count": 3,
      "outputs": [
        {
          "output_type": "stream",
          "name": "stdout",
          "text": [
            "[2, 5, 4, 7, 6]\n"
          ]
        }
      ]
    }
  ]
}