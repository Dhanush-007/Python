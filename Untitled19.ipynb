{
  "nbformat": 4,
  "nbformat_minor": 0,
  "metadata": {
    "colab": {
      "name": "Untitled19.ipynb",
      "provenance": [],
      "include_colab_link": true
    },
    "kernelspec": {
      "name": "python3",
      "display_name": "Python 3"
    },
    "language_info": {
      "name": "python"
    }
  },
  "cells": [
    {
      "cell_type": "markdown",
      "metadata": {
        "id": "view-in-github",
        "colab_type": "text"
      },
      "source": [
        "<a href=\"https://colab.research.google.com/github/Dhanush-007/Python/blob/main/Untitled19.ipynb\" target=\"_parent\"><img src=\"https://colab.research.google.com/assets/colab-badge.svg\" alt=\"Open In Colab\"/></a>"
      ]
    },
    {
      "cell_type": "markdown",
      "metadata": {
        "id": "LyFia_niZerA"
      },
      "source": [
        "Write a python function to print the missing number from a list.\n",
        "\n",
        "Example:\n",
        "\n",
        "Input: [1, 2, 3, 4, 6, 7, 8, 9]\n",
        "\n",
        "Output: 5"
      ]
    },
    {
      "cell_type": "code",
      "source": [
        "a= [1, 2, 3, 4, 6, 7, 8, 9]\n",
        "for i in range(len(a)-1):\n",
        "  if (a[0]!=1):\n",
        "    print(1)\n",
        "    break\n",
        "  elif(a[i+1]!=a[i]+1):\n",
        "    print(a[i]+1)\n"
      ],
      "metadata": {
        "id": "Xr44iLcAwEKX",
        "outputId": "0a463255-776e-4c4e-f8ec-77cbc9eec3ca",
        "colab": {
          "base_uri": "https://localhost:8080/"
        }
      },
      "execution_count": 4,
      "outputs": [
        {
          "output_type": "stream",
          "name": "stdout",
          "text": [
            "5\n"
          ]
        }
      ]
    }
  ]
}